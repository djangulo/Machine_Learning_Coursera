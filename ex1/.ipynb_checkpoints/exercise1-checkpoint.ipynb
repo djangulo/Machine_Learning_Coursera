{
 "cells": [
  {
   "cell_type": "code",
   "execution_count": 1,
   "metadata": {},
   "outputs": [],
   "source": [
    "import tensorflow as tf\n",
    "import pandas as pd\n",
    "import numpy as np\n",
    "import matplotlib.pyplot as plt\n",
    "\n",
    "tf.enable_eager_execution()\n"
   ]
  },
  {
   "cell_type": "code",
   "execution_count": 2,
   "metadata": {},
   "outputs": [],
   "source": [
    "def pause():\n",
    "    program_pause = input('Program paused. Press ENTER to continue.\\n')\n",
    "\n",
    "def warm_up_exercise():\n",
    "    return tf.eye(5)"
   ]
  },
  {
   "cell_type": "code",
   "execution_count": 3,
   "metadata": {},
   "outputs": [],
   "source": [
    "def plot_data(X, y):\n",
    "    fig = plt.figure()\n",
    "    ax = fig.gca()\n",
    "    ax.scatter(X, y, marker='x', c='r', s=10)\n",
    "    ax.set_ylabel('Profit in $10,000s')\n",
    "    ax.set_xlabel('Population of City in 10,000s')"
   ]
  },
  {
   "cell_type": "code",
   "execution_count": 4,
   "metadata": {},
   "outputs": [],
   "source": [
    "def compute_cost(X, y, theta):\n",
    "    m = tf.contrib.eager.Variable(float(len(y)))\n",
    "    # conversion to tensorflow Tensors\n",
    "    if isinstance(X, np.ndarray):\n",
    "        X = tf.convert_to_tensor(X, np.float32)\n",
    "    if isinstance(y, np.ndarray):\n",
    "        y = tf.convert_to_tensor(y, np.float32)\n",
    "    return (tf.constant(1.0) / (tf.constant(2.0) * m)\n",
    "           ) * tf.reduce_sum(tf.square(tf.reshape(tf.matmul(X, theta), [-1]) - y))"
   ]
  },
  {
   "cell_type": "code",
   "execution_count": 7,
   "metadata": {},
   "outputs": [],
   "source": [
    "def gradient_descent(X, y, theta, alpha, num_iters):\n",
    "    m = tf.constant(float(len(y)))\n",
    "    if isinstance(y, np.ndarray):\n",
    "        y = tf.convert_to_tensor(y, tf.float32)\n",
    "    if isinstance(X, np.ndarray):\n",
    "        X = tf.convert_to_tensor(X, tf.float32)\n",
    "    j_history = tf.zeros(num_iters, 1)\n",
    "    theta = tf.contrib.eager.Variable(theta)\n",
    "    \n",
    "    for i in range(num_iters):\n",
    "        temp0 = theta[0] - (alpha / m) * tf.reduce_sum(\n",
    "                                                tf.multiply(tf.reshape(tf.matmul(X, theta), [-1]) - y, X[:, 0]))\n",
    "        temp1 = theta[1] - (alpha / m) * tf.reduce_sum(\n",
    "                                                tf.multiply(tf.reshape(tf.matmul(X, theta), [-1]) - y, X[:, 1]))\n",
    "        tf.assign(theta[0], temp0)\n",
    "        tf.assign(theta[1], temp0)\n",
    "        \n",
    "        tf.assign(j_history[i], compute_cost(X, y, theta))\n",
    "    return theta, j_history\n",
    "    \n"
   ]
  },
  {
   "cell_type": "code",
   "execution_count": 8,
   "metadata": {},
   "outputs": [
    {
     "name": "stdout",
     "output_type": "stream",
     "text": [
      "Running warp_up_exercise\n",
      " 5x5 Identity Matrix: \n",
      "[[1. 0. 0. 0. 0.]\n",
      " [0. 1. 0. 0. 0.]\n",
      " [0. 0. 1. 0. 0.]\n",
      " [0. 0. 0. 1. 0.]\n",
      " [0. 0. 0. 0. 1.]]\n",
      "Plotting Data ...\n",
      "\n",
      "Program paused. Press ENTER to continue.\n",
      "\n",
      "\n",
      "Testing the cost function...\n",
      "\n",
      "With theta = [0 ; 0]\n",
      "Cost computed = 32.072735\n",
      "\n",
      "Expected cost value (approx) 32.07\n",
      "\n",
      "\n",
      "With theta = [-1, 2]\n",
      "Cost computed = 54.242455\n",
      "\n",
      "Expected cost value (approx) 54.24\n",
      "\n",
      "Program paused. Press ENTER to continue.\n",
      "\n",
      "\n",
      "Running Gradient Descent ...\n",
      "\n"
     ]
    },
    {
     "ename": "AttributeError",
     "evalue": "'EagerTensor' object has no attribute 'assign'",
     "output_type": "error",
     "traceback": [
      "\u001b[0;31m---------------------------------------------------------------------------\u001b[0m",
      "\u001b[0;31mAttributeError\u001b[0m                            Traceback (most recent call last)",
      "\u001b[0;32m<ipython-input-8-3e2e664d7ca2>\u001b[0m in \u001b[0;36m<module>\u001b[0;34m()\u001b[0m\n\u001b[1;32m     27\u001b[0m \u001b[0mpause\u001b[0m\u001b[0;34m(\u001b[0m\u001b[0;34m)\u001b[0m\u001b[0;34m\u001b[0m\u001b[0m\n\u001b[1;32m     28\u001b[0m \u001b[0mprint\u001b[0m\u001b[0;34m(\u001b[0m\u001b[0;34m'\\nRunning Gradient Descent ...\\n'\u001b[0m\u001b[0;34m)\u001b[0m\u001b[0;34m\u001b[0m\u001b[0m\n\u001b[0;32m---> 29\u001b[0;31m \u001b[0mtheta\u001b[0m \u001b[0;34m=\u001b[0m \u001b[0mgradient_descent\u001b[0m\u001b[0;34m(\u001b[0m\u001b[0mX\u001b[0m\u001b[0;34m,\u001b[0m \u001b[0my\u001b[0m\u001b[0;34m,\u001b[0m \u001b[0mtheta\u001b[0m\u001b[0;34m,\u001b[0m \u001b[0malpha\u001b[0m\u001b[0;34m,\u001b[0m \u001b[0miterations\u001b[0m\u001b[0;34m)\u001b[0m\u001b[0;34m;\u001b[0m\u001b[0;34m\u001b[0m\u001b[0m\n\u001b[0m",
      "\u001b[0;32m<ipython-input-7-3a96cb95e5d6>\u001b[0m in \u001b[0;36mgradient_descent\u001b[0;34m(X, y, theta, alpha, num_iters)\u001b[0m\n\u001b[1;32m     13\u001b[0m         temp1 = theta[1] - (alpha / m) * tf.reduce_sum(\n\u001b[1;32m     14\u001b[0m                                                 tf.multiply(tf.reshape(tf.matmul(X, theta), [-1]) - y, X[:, 1]))\n\u001b[0;32m---> 15\u001b[0;31m         \u001b[0mtf\u001b[0m\u001b[0;34m.\u001b[0m\u001b[0massign\u001b[0m\u001b[0;34m(\u001b[0m\u001b[0mtheta\u001b[0m\u001b[0;34m[\u001b[0m\u001b[0;36m0\u001b[0m\u001b[0;34m]\u001b[0m\u001b[0;34m,\u001b[0m \u001b[0mtemp0\u001b[0m\u001b[0;34m)\u001b[0m\u001b[0;34m\u001b[0m\u001b[0m\n\u001b[0m\u001b[1;32m     16\u001b[0m         \u001b[0mtf\u001b[0m\u001b[0;34m.\u001b[0m\u001b[0massign\u001b[0m\u001b[0;34m(\u001b[0m\u001b[0mtheta\u001b[0m\u001b[0;34m[\u001b[0m\u001b[0;36m1\u001b[0m\u001b[0;34m]\u001b[0m\u001b[0;34m,\u001b[0m \u001b[0mtemp0\u001b[0m\u001b[0;34m)\u001b[0m\u001b[0;34m\u001b[0m\u001b[0m\n\u001b[1;32m     17\u001b[0m \u001b[0;34m\u001b[0m\u001b[0m\n",
      "\u001b[0;32m~/Documents/.env/lib/python3.6/site-packages/tensorflow/python/ops/state_ops.py\u001b[0m in \u001b[0;36massign\u001b[0;34m(ref, value, validate_shape, use_locking, name)\u001b[0m\n\u001b[1;32m    215\u001b[0m         \u001b[0mref\u001b[0m\u001b[0;34m,\u001b[0m \u001b[0mvalue\u001b[0m\u001b[0;34m,\u001b[0m \u001b[0muse_locking\u001b[0m\u001b[0;34m=\u001b[0m\u001b[0muse_locking\u001b[0m\u001b[0;34m,\u001b[0m \u001b[0mname\u001b[0m\u001b[0;34m=\u001b[0m\u001b[0mname\u001b[0m\u001b[0;34m,\u001b[0m\u001b[0;34m\u001b[0m\u001b[0m\n\u001b[1;32m    216\u001b[0m         validate_shape=validate_shape)\n\u001b[0;32m--> 217\u001b[0;31m   \u001b[0;32mreturn\u001b[0m \u001b[0mref\u001b[0m\u001b[0;34m.\u001b[0m\u001b[0massign\u001b[0m\u001b[0;34m(\u001b[0m\u001b[0mvalue\u001b[0m\u001b[0;34m,\u001b[0m \u001b[0mname\u001b[0m\u001b[0;34m=\u001b[0m\u001b[0mname\u001b[0m\u001b[0;34m)\u001b[0m\u001b[0;34m\u001b[0m\u001b[0m\n\u001b[0m\u001b[1;32m    218\u001b[0m \u001b[0;34m\u001b[0m\u001b[0m\n\u001b[1;32m    219\u001b[0m \u001b[0;34m\u001b[0m\u001b[0m\n",
      "\u001b[0;31mAttributeError\u001b[0m: 'EagerTensor' object has no attribute 'assign'"
     ]
    },
    {
     "data": {
      "image/png": "[encoded data removed]",
      "text/plain": [
       "<Figure size 432x288 with 1 Axes>"
      ]
     },
     "metadata": {},
     "output_type": "display_data"
    }
   ],
   "source": [
    "print('Running warp_up_exercise\\n 5x5 Identity Matrix: \\n{}'.format(warm_up_exercise().numpy()))\n",
    "\n",
    "print('Plotting Data ...\\n')\n",
    "data = pd.read_table('ex1data1.txt', sep=',', header=None)\n",
    "X, y = data[0].values, data[1].values\n",
    "plot_data(X, y)\n",
    "pause()\n",
    "\n",
    "X = pd.DataFrame([np.ones(len(X)), X]).T.values\n",
    "theta = tf.zeros((2,1))\n",
    "\n",
    "iterations = 1500\n",
    "alpha = 0.01\n",
    "\n",
    "print('\\nTesting the cost function...\\n')\n",
    "\n",
    "J = compute_cost(X, y, theta)\n",
    "\n",
    "print('With theta = [0 ; 0]\\nCost computed = {0:.6f}\\n'.format(J.numpy()))\n",
    "print('Expected cost value (approx) 32.07\\n')\n",
    "\n",
    "J = compute_cost(X, y, tf.constant([[-1.0], [2.0]]))\n",
    "                 \n",
    "print('\\nWith theta = [-1, 2]\\nCost computed = {0:.6f}\\n'.format(J.numpy()))\n",
    "print('Expected cost value (approx) 54.24\\n')\n",
    "\n",
    "pause()\n",
    "print('\\nRunning Gradient Descent ...\\n')\n",
    "theta = gradient_descent(X, y, theta, alpha, iterations);"
   ]
  },
  {
   "cell_type": "code",
   "execution_count": 248,
   "metadata": {},
   "outputs": [
    {
     "data": {
      "text/plain": [
       "<tf.Variable 'Variable:0' shape=(2, 1) dtype=float32, numpy=\n",
       "array([[-32.],\n",
       "       [-42.]], dtype=float32)>"
      ]
     },
     "execution_count": 248,
     "metadata": {},
     "output_type": "execute_result"
    }
   ],
   "source": [
    "theta = tf.contrib.eager.Variable(theta)\n",
    "theta"
   ]
  },
  {
   "cell_type": "code",
   "execution_count": 249,
   "metadata": {},
   "outputs": [
    {
     "data": {
      "text/plain": [
       "<tf.Variable 'Variable:0' shape=(2, 1) dtype=float32, numpy=\n",
       "array([[-32.],\n",
       "       [-42.]], dtype=float32)>"
      ]
     },
     "execution_count": 249,
     "metadata": {},
     "output_type": "execute_result"
    }
   ],
   "source": [
    "tf.assign(theta, [[-32], [-42]])\n",
    "theta"
   ]
  },
  {
   "cell_type": "code",
   "execution_count": 195,
   "metadata": {},
   "outputs": [
    {
     "data": {
      "text/plain": [
       "<tf.Tensor: id=840, shape=(97,), dtype=float32, numpy=\n",
       "array([11.2202  , 10.0554  , 16.0372  , 13.0064  , 10.7196  , 15.7658  ,\n",
       "       13.9528  , 16.1562  , 11.9724  ,  9.1092  , 10.4214  , 27.328   ,\n",
       "       10.468   , 15.816799, 10.2814  ,  9.7588  , 11.7308  ,  9.2602  ,\n",
       "       11.8592  , 13.1416  , 11.3782  , 39.54    ,  9.9802  , 11.6522  ,\n",
       "       10.1298  , 36.89    , 24.656   , 20.914   , 25.352   , 43.406   ,\n",
       "        9.5048  , 12.1788  , 17.4964  , 10.7836  , 15.422199, 14.8668  ,\n",
       "       15.191799, 10.2126  , 24.672   , 11.7068  ,  9.8138  , 12.765   ,\n",
       "       22.416   , 10.5474  , 14.6494  , 13.1862  ,  9.1404  , 10.6028  ,\n",
       "       22.4     , 10.0832  , 14.0804  ,  9.6154  , 13.8478  , 14.2062  ,\n",
       "       11.6656  , 11.7178  , 11.5484  , 10.2794  , 17.6204  , 17.9072  ,\n",
       "       16.6508  ,  9.3586  , 41.558   , 28.816   , 36.918   , 13.4364  ,\n",
       "       15.5902  , 19.472   ,  9.9988  , 39.682   , 19.272   , 13.669   ,\n",
       "       11.0124  , 13.4518  ,  9.0538  , 12.0958  , 14.0772  ,  9.073   ,\n",
       "       19.548   ,  9.2154  , 10.4584  ,  9.3768  , 11.7114  , 18.5374  ,\n",
       "       12.0318  , 16.0344  , 17.3604  , 11.004   , 10.0408  ,  9.1188  ,\n",
       "       10.4154  , 14.2732  , 10.7414  ,  9.6108  , 15.5868  , 25.788   ,\n",
       "        9.8738  ], dtype=float32)>"
      ]
     },
     "execution_count": 195,
     "metadata": {},
     "output_type": "execute_result"
    }
   ],
   "source": [
    "tf.reshape(tf.matmul(XX, theta), [-1])"
   ]
  },
  {
   "cell_type": "code",
   "execution_count": 196,
   "metadata": {},
   "outputs": [
    {
     "data": {
      "text/plain": [
       "<tf.Tensor: id=846, shape=(97,), dtype=float32, numpy=\n",
       "array([-6.3717995,  0.9251995,  2.3752012,  1.1524   ,  3.8962998,\n",
       "        3.8798008,  9.6045   ,  4.1562004,  5.3736997,  5.2925997,\n",
       "        7.1692   , 11.822999 ,  7.3129005,  8.591    ,  9.56522  ,\n",
       "        6.245899 ,  6.4259996,  8.6994295,  8.207399 ,  7.7523   ,\n",
       "        8.239599 , 17.773    ,  5.7172   ,  6.4646997,  7.0473   ,\n",
       "       14.251999 , 11.155    , 13.8673   , 10.659999 , 19.258999 ,\n",
       "       10.7248   ,  6.1821995,  5.362401 ,  8.9341   ,  8.879599 ,\n",
       "       10.304501 , 11.075399 ,  6.8197994, 14.555001 ,  6.2094007,\n",
       "        9.25723  ,  8.8535   , 17.030602 ,  8.1068   ,  7.9175997,\n",
       "       12.1399   ,  4.0067   ,  8.7588005, 14.3956995,  9.0653   ,\n",
       "        7.3300004,  7.7758   ,  9.5593   ,  9.208099 , 10.2423   ,\n",
       "       13.1389   ,  9.0728   ,  5.6752   , 13.657999 , 12.493099 ,\n",
       "       11.4814005, 10.10139  , 23.628998 , 16.762001 , 19.863998 ,\n",
       "        8.551201 ,  9.846001 , 11.6966   ,  8.981501 , 18.689999 ,\n",
       "       12.592099 ,  9.6431   ,  9.733999 , 10.110701 , 11.7345   ,\n",
       "       11.799021 , 10.192699 ,  3.3716002, 12.795401 ,  7.1577997,\n",
       "        9.978869 ,  9.172589 , 11.03279  , 10.993899 ,  6.6882005,\n",
       "       11.792901 , 10.5623   , 10.077049 ,  9.8888   ,  6.2974005,\n",
       "        8.570299 ,  9.977301 ,  3.5384998,  7.6239   , 15.44226  ,\n",
       "       16.732899 ,  9.25675  ], dtype=float32)>"
      ]
     },
     "execution_count": 196,
     "metadata": {},
     "output_type": "execute_result"
    }
   ],
   "source": [
    "theta = tf.constant([[-1.0], [2.0]])\n",
    "(tf.reshape(tf.matmul(XX, theta), [-1]) - yy)\n"
   ]
  },
  {
   "cell_type": "code",
   "execution_count": 153,
   "metadata": {},
   "outputs": [
    {
     "ename": "InvalidArgumentError",
     "evalue": "cannot compute MatMul as input #0 was expected to be a float tensor but is a double tensor [Op:MatMul] name: MatMul/",
     "output_type": "error",
     "traceback": [
      "\u001b[0;31m---------------------------------------------------------------------------\u001b[0m",
      "\u001b[0;31mInvalidArgumentError\u001b[0m                      Traceback (most recent call last)",
      "\u001b[0;32m<ipython-input-153-fff14f1f1865>\u001b[0m in \u001b[0;36m<module>\u001b[0;34m()\u001b[0m\n\u001b[1;32m      6\u001b[0m     \u001b[0myy\u001b[0m \u001b[0;34m=\u001b[0m \u001b[0mtf\u001b[0m\u001b[0;34m.\u001b[0m\u001b[0mconvert_to_tensor\u001b[0m\u001b[0;34m(\u001b[0m\u001b[0my\u001b[0m\u001b[0;34m,\u001b[0m \u001b[0mnp\u001b[0m\u001b[0;34m.\u001b[0m\u001b[0mfloat32\u001b[0m\u001b[0;34m)\u001b[0m\u001b[0;34m\u001b[0m\u001b[0m\n\u001b[1;32m      7\u001b[0m (tf.constant(1.0) / (tf.constant(2.0) * m)\n\u001b[0;32m----> 8\u001b[0;31m        ) * tf.reduce_sum(tf.square(tf.subtract(tf.matmul(X, theta), y)))\n\u001b[0m",
      "\u001b[0;32m~/Documents/.env/lib/python3.6/site-packages/tensorflow/python/ops/math_ops.py\u001b[0m in \u001b[0;36mmatmul\u001b[0;34m(a, b, transpose_a, transpose_b, adjoint_a, adjoint_b, a_is_sparse, b_is_sparse, name)\u001b[0m\n\u001b[1;32m   2016\u001b[0m     \u001b[0;32melse\u001b[0m\u001b[0;34m:\u001b[0m\u001b[0;34m\u001b[0m\u001b[0m\n\u001b[1;32m   2017\u001b[0m       return gen_math_ops.mat_mul(\n\u001b[0;32m-> 2018\u001b[0;31m           a, b, transpose_a=transpose_a, transpose_b=transpose_b, name=name)\n\u001b[0m\u001b[1;32m   2019\u001b[0m \u001b[0;34m\u001b[0m\u001b[0m\n\u001b[1;32m   2020\u001b[0m \u001b[0;34m\u001b[0m\u001b[0m\n",
      "\u001b[0;32m~/Documents/.env/lib/python3.6/site-packages/tensorflow/python/ops/gen_math_ops.py\u001b[0m in \u001b[0;36mmat_mul\u001b[0;34m(a, b, transpose_a, transpose_b, name)\u001b[0m\n\u001b[1;32m   4480\u001b[0m       \u001b[0;32melse\u001b[0m\u001b[0;34m:\u001b[0m\u001b[0;34m\u001b[0m\u001b[0m\n\u001b[1;32m   4481\u001b[0m         \u001b[0mmessage\u001b[0m \u001b[0;34m=\u001b[0m \u001b[0me\u001b[0m\u001b[0;34m.\u001b[0m\u001b[0mmessage\u001b[0m\u001b[0;34m\u001b[0m\u001b[0m\n\u001b[0;32m-> 4482\u001b[0;31m       \u001b[0m_six\u001b[0m\u001b[0;34m.\u001b[0m\u001b[0mraise_from\u001b[0m\u001b[0;34m(\u001b[0m\u001b[0m_core\u001b[0m\u001b[0;34m.\u001b[0m\u001b[0m_status_to_exception\u001b[0m\u001b[0;34m(\u001b[0m\u001b[0me\u001b[0m\u001b[0;34m.\u001b[0m\u001b[0mcode\u001b[0m\u001b[0;34m,\u001b[0m \u001b[0mmessage\u001b[0m\u001b[0;34m)\u001b[0m\u001b[0;34m,\u001b[0m \u001b[0;32mNone\u001b[0m\u001b[0;34m)\u001b[0m\u001b[0;34m\u001b[0m\u001b[0m\n\u001b[0m\u001b[1;32m   4483\u001b[0m \u001b[0;34m\u001b[0m\u001b[0m\n\u001b[1;32m   4484\u001b[0m \u001b[0;34m\u001b[0m\u001b[0m\n",
      "\u001b[0;32m~/Documents/.env/lib/python3.6/site-packages/six.py\u001b[0m in \u001b[0;36mraise_from\u001b[0;34m(value, from_value)\u001b[0m\n",
      "\u001b[0;31mInvalidArgumentError\u001b[0m: cannot compute MatMul as input #0 was expected to be a float tensor but is a double tensor [Op:MatMul] name: MatMul/"
     ]
    }
   ],
   "source": [
    "m = tf.contrib.eager.Variable(float(len(y)))\n",
    "# conversion to tensorflow Tensors\n",
    "if isinstance(X, np.ndarray):\n",
    "    XX = tf.convert_to_tensor(X, np.float32)\n",
    "if isinstance(y, np.ndarray):\n",
    "    yy = tf.convert_to_tensor(y, np.float32)\n",
    "(tf.constant(1.0) / (tf.constant(2.0) * m)\n",
    "       ) * tf.reduce_sum(tf.square(tf.subtract(tf.matmul(X, theta), y)))"
   ]
  },
  {
   "cell_type": "code",
   "execution_count": 72,
   "metadata": {},
   "outputs": [
    {
     "data": {
      "text/plain": [
       "numpy.ndarray"
      ]
     },
     "execution_count": 72,
     "metadata": {},
     "output_type": "execute_result"
    }
   ],
   "source": [
    "type(X.values)"
   ]
  },
  {
   "cell_type": "code",
   "execution_count": 96,
   "metadata": {},
   "outputs": [
    {
     "data": {
      "text/plain": [
       "array([[0.],\n",
       "       [0.]], dtype=float32)"
      ]
     },
     "execution_count": 96,
     "metadata": {},
     "output_type": "execute_result"
    }
   ],
   "source": [
    "theta = tf.zeros((2,1))\n",
    "theta.numpy()"
   ]
  },
  {
   "cell_type": "code",
   "execution_count": 3,
   "metadata": {},
   "outputs": [
    {
     "ename": "RuntimeError",
     "evalue": "tf.Variable not supported when eager execution is enabled. Please use tf.contrib.eager.Variable instead",
     "output_type": "error",
     "traceback": [
      "\u001b[0;31m---------------------------------------------------------------------------\u001b[0m",
      "\u001b[0;31mRuntimeError\u001b[0m                              Traceback (most recent call last)",
      "\u001b[0;32m<ipython-input-3-dc05a54b9a4c>\u001b[0m in \u001b[0;36m<module>\u001b[0;34m()\u001b[0m\n\u001b[0;32m----> 1\u001b[0;31m \u001b[0mm\u001b[0m \u001b[0;34m=\u001b[0m \u001b[0mtf\u001b[0m\u001b[0;34m.\u001b[0m\u001b[0mVariable\u001b[0m\u001b[0;34m(\u001b[0m\u001b[0;36m15.0\u001b[0m\u001b[0;34m)\u001b[0m\u001b[0;34m\u001b[0m\u001b[0m\n\u001b[0m\u001b[1;32m      2\u001b[0m \u001b[0mT\u001b[0m \u001b[0;34m=\u001b[0m \u001b[0mtf\u001b[0m\u001b[0;34m.\u001b[0m\u001b[0mones\u001b[0m\u001b[0;34m(\u001b[0m\u001b[0;34m[\u001b[0m\u001b[0;36m3\u001b[0m\u001b[0;34m,\u001b[0m\u001b[0;36m3\u001b[0m\u001b[0;34m]\u001b[0m\u001b[0;34m,\u001b[0m \u001b[0mtf\u001b[0m\u001b[0;34m.\u001b[0m\u001b[0mint32\u001b[0m\u001b[0;34m)\u001b[0m\u001b[0;34m\u001b[0m\u001b[0m\n\u001b[1;32m      3\u001b[0m \u001b[0mJ\u001b[0m \u001b[0;34m=\u001b[0m \u001b[0mtf\u001b[0m\u001b[0;34m.\u001b[0m\u001b[0mconstant\u001b[0m\u001b[0;34m(\u001b[0m\u001b[0;36m1.0\u001b[0m\u001b[0;34m)\u001b[0m \u001b[0;34m/\u001b[0m \u001b[0;34m(\u001b[0m\u001b[0mtf\u001b[0m\u001b[0;34m.\u001b[0m\u001b[0mconstant\u001b[0m\u001b[0;34m(\u001b[0m\u001b[0;36m2.0\u001b[0m\u001b[0;34m)\u001b[0m \u001b[0;34m*\u001b[0m \u001b[0mm\u001b[0m\u001b[0;34m)\u001b[0m\u001b[0;34m\u001b[0m\u001b[0m\n\u001b[1;32m      4\u001b[0m \u001b[0mprint\u001b[0m\u001b[0;34m(\u001b[0m\u001b[0mT\u001b[0m \u001b[0;34m*\u001b[0m\u001b[0;36m2\u001b[0m\u001b[0;34m)\u001b[0m\u001b[0;34m\u001b[0m\u001b[0m\n",
      "\u001b[0;32m~/Documents/.env/lib/python3.6/site-packages/tensorflow/python/ops/variables.py\u001b[0m in \u001b[0;36m__init__\u001b[0;34m(self, initial_value, trainable, collections, validate_shape, caching_device, name, variable_def, dtype, expected_shape, import_scope, constraint)\u001b[0m\n\u001b[1;32m    237\u001b[0m     \u001b[0;32mif\u001b[0m \u001b[0mcontext\u001b[0m\u001b[0;34m.\u001b[0m\u001b[0mexecuting_eagerly\u001b[0m\u001b[0;34m(\u001b[0m\u001b[0;34m)\u001b[0m\u001b[0;34m:\u001b[0m\u001b[0;34m\u001b[0m\u001b[0m\n\u001b[1;32m    238\u001b[0m       raise RuntimeError(\n\u001b[0;32m--> 239\u001b[0;31m           \u001b[0;34m\"tf.Variable not supported when eager execution is enabled. \"\u001b[0m\u001b[0;34m\u001b[0m\u001b[0m\n\u001b[0m\u001b[1;32m    240\u001b[0m           \"Please use tf.contrib.eager.Variable instead\")\n\u001b[1;32m    241\u001b[0m     \u001b[0mself\u001b[0m\u001b[0;34m.\u001b[0m\u001b[0m_in_graph_mode\u001b[0m \u001b[0;34m=\u001b[0m \u001b[0;32mTrue\u001b[0m\u001b[0;34m\u001b[0m\u001b[0m\n",
      "\u001b[0;31mRuntimeError\u001b[0m: tf.Variable not supported when eager execution is enabled. Please use tf.contrib.eager.Variable instead"
     ]
    }
   ],
   "source": [
    "m = tf.Variable(15.0)\n",
    "T = tf.ones([3,3], tf.int32)\n",
    "J = tf.constant(1.0) / (tf.constant(2.0) * m)\n",
    "print(T *2)"
   ]
  },
  {
   "cell_type": "code",
   "execution_count": 15,
   "metadata": {},
   "outputs": [
    {
     "name": "stdout",
     "output_type": "stream",
     "text": [
      "On CPU:\n",
      "8.42 ms ± 446 µs per loop (mean ± std. dev. of 7 runs, 100 loops each)\n",
      "2.48 ms ± 681 ns per loop (mean ± std. dev. of 7 runs, 1000 loops each)\n"
     ]
    }
   ],
   "source": [
    "def time_matmul(x):\n",
    "  %timeit tf.matmul(x, x)\n",
    "\n",
    "# Force execution on CPU\n",
    "print(\"On CPU:\")\n",
    "with tf.device(\"CPU:0\"):\n",
    "  x = tf.random_uniform([1000, 1000])\n",
    "  assert x.device.endswith(\"CPU:0\")\n",
    "  time_matmul(x)\n",
    "\n",
    "# Force execution on GPU #0 if available\n",
    "if tf.test.is_gpu_available():\n",
    "  with tf.device(\"GPU:0\"): # Or GPU:1 for the 2nd GPU, GPU:2 for the 3rd etc.\n",
    "    x = tf.random_uniform([1000, 1000])\n",
    "    \n",
    "    assert x.device.endswith(\"GPU:0\")\n",
    "    time_matmul(x)"
   ]
  },
  {
   "cell_type": "code",
   "execution_count": 20,
   "metadata": {},
   "outputs": [
    {
     "data": {
      "text/plain": [
       "<tf.Tensor: id=9048, shape=(3, 3), dtype=float64, numpy=\n",
       "array([[4., 4., 4.],\n",
       "       [4., 4., 4.],\n",
       "       [4., 4., 4.]])>"
      ]
     },
     "execution_count": 20,
     "metadata": {},
     "output_type": "execute_result"
    }
   ],
   "source": [
    "ndarray = np.ones([3, 3]) * 2\n",
    "tensor = tf.multiply(ndarray, 42)\n",
    "\n",
    "tensor.numpy()\n",
    "tf.square(ndarray)"
   ]
  }
 ],
 "metadata": {
  "kernelspec": {
   "display_name": "Python 3",
   "language": "python",
   "name": "python3"
  },
  "language_info": {
   "codemirror_mode": {
    "name": "ipython",
    "version": 3
   },
   "file_extension": ".py",
   "mimetype": "text/x-python",
   "name": "python",
   "nbconvert_exporter": "python",
   "pygments_lexer": "ipython3",
   "version": "3.6.6"
  }
 },
 "nbformat": 4,
 "nbformat_minor": 2
}
